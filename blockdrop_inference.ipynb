{
 "cells": [
  {
   "cell_type": "code",
   "execution_count": 6,
   "id": "1cb01a87-fbb5-4834-a5f5-fbc4e6977465",
   "metadata": {},
   "outputs": [],
   "source": [
    "import torch\n",
    "import torch.utils.data as torchdata\n",
    "import torch.nn as nn\n",
    "import tqdm\n",
    "from timeit import default_timer as timer\n",
    "import utils\n",
    "\n",
    "import torch.backends.cudnn as cudnn\n",
    "cudnn.benchmark = True"
   ]
  },
  {
   "cell_type": "markdown",
   "id": "a5554797-4f96-408c-86b7-b6055119ea02",
   "metadata": {},
   "source": [
    "# Variables and dataset"
   ]
  },
  {
   "cell_type": "code",
   "execution_count": null,
   "id": "0efdea68-cba9-4106-881a-e072cb67a56e",
   "metadata": {},
   "outputs": [],
   "source": [
    "model='R110_C10'\n",
    "load = 'cv/finetuned/R110_C10/ckpt_E_2000_A_0.936_R_1.95E-01_S_16.93_#_469.t7'\n",
    "data_dir = 'data/'\n",
    "device = torch.device(\"cuda\") if torch.cuda.is_available() else torch.device(\"cpu\")\n",
    "\n",
    "torch.manual_seed(42)\n",
    "if torch.cuda.is_available():\n",
    "    torch.cuda.manual_seed(42)\n",
    "    torch.cuda.manual_seed_all(42)\n",
    "    \n",
    "trainset, testset = utils.get_dataset(model, data_dir)"
   ]
  },
  {
   "cell_type": "markdown",
   "id": "68b79789-1a05-4ddb-b9bb-ebd45d8ae7a4",
   "metadata": {},
   "source": [
    "# Accuracy Measure"
   ]
  },
  {
   "cell_type": "code",
   "execution_count": 2,
   "id": "9f2c09ea-1348-4fa1-b644-84aa3fa4f428",
   "metadata": {},
   "outputs": [],
   "source": [
    "# compute accuracy\n",
    "def get_accuracy(preds, target, batch_size):\n",
    "    corrects = (torch.max(preds, 1)[1].view(target.size()).data == target.data).sum()\n",
    "    accuracy = 100.0 * corrects/batch_size\n",
    "    return accuracy.item()"
   ]
  },
  {
   "cell_type": "markdown",
   "id": "c4f3f447-ce28-4cca-8af0-3586bc1cdcd9",
   "metadata": {},
   "source": [
    "# Inference calculataions"
   ]
  },
  {
   "cell_type": "code",
   "execution_count": 3,
   "id": "b646417e-d5ea-4c1a-b96b-219d671469b4",
   "metadata": {},
   "outputs": [],
   "source": [
    "def inference():\n",
    "    acc = 0.\n",
    "    matches, policies = [], []\n",
    "    with torch.no_grad():\n",
    "        for batch_idx, (inputs, targets) in tqdm.tqdm(enumerate(testloader), total=len(testloader)):\n",
    "            #load inputs and targets to device\n",
    "            inputs = inputs.to(device)\n",
    "            targets = targets.to(device)\n",
    "            \n",
    "            # Run Policy Network: probs= dropping probabilites for each block of ResNet\n",
    "            probs, _ = agent(inputs)\n",
    "\n",
    "            # transform dropping probabilites to dropping strategy (<0.5 drop; else: keep)\n",
    "            policy = probs.clone()\n",
    "            policy[policy<0.5] = 0.0\n",
    "            policy[policy>=0.5] = 0.0\n",
    "            \n",
    "            # run ResNet\n",
    "            preds = rnet.forward_single(inputs, policy.data.squeeze(0))\n",
    "            \n",
    "            # save policy data\n",
    "            policies.append(policy.data)\n",
    "            \n",
    "            # calculate accuracy\n",
    "            acc += get_accuracy(preds, targets, len(targets))\n",
    "    \n",
    "    # save values for later printing \n",
    "    policies = torch.cat(policies, 0)\n",
    "    min_blocks = policies.sum(1).min()\n",
    "    sparsity = policies.sum(1).mean()\n",
    "\n",
    "    accuracy = acc/batch_idx\n",
    "    print(f\"Accuracy of the model: {acc/batch_idx:4.2f}%\", \"Blocks used in avg:\", sparsity)\n",
    "    print(\"Min blocks: \", min_blocks)\n",
    "    "
   ]
  },
  {
   "cell_type": "markdown",
   "id": "eff67b1c-1965-4825-ac71-a316c91bfe28",
   "metadata": {},
   "source": [
    "# Run inference "
   ]
  },
  {
   "cell_type": "code",
   "execution_count": 5,
   "id": "b4d7d6a6-b8ca-4716-8587-96a92882c820",
   "metadata": {},
   "outputs": [
    {
     "name": "stdout",
     "output_type": "stream",
     "text": [
      "loading checkpoints\n",
      "loaded resnet from ckpt_E_2000_A_0.936_R_1.95E-01_S_16.93_#_469.t7\n",
      "loaded agent from ckpt_E_2000_A_0.936_R_1.95E-01_S_16.93_#_469.t7\n"
     ]
    },
    {
     "name": "stderr",
     "output_type": "stream",
     "text": [
      "100%|██████████| 10000/10000 [00:42<00:00, 233.28it/s]"
     ]
    },
    {
     "name": "stdout",
     "output_type": "stream",
     "text": [
      "Accuracy of the model: 9.82% Blocks used in avg: tensor(0., device='cuda:0')\n",
      "Min blocks:  tensor(0., device='cuda:0')\n",
      "Testing in ms: 4.30\n"
     ]
    },
    {
     "name": "stderr",
     "output_type": "stream",
     "text": [
      "\n"
     ]
    }
   ],
   "source": [
    "num_workers = 4 if torch.device(\"cuda\") else 1\n",
    "testloader = torchdata.DataLoader(testset, batch_size=1, shuffle=False, num_workers=num_workers)\n",
    "\n",
    "rnet, agent = utils.get_model(model, device)\n",
    "\n",
    "# if no model is loaded, use all blocks\n",
    "agent.logit.weight.data.fill_(0)\n",
    "agent.logit.bias.data.fill_(10)\n",
    "\n",
    "print(\"loading checkpoints\")\n",
    "\n",
    "if load is not None:\n",
    "    utils.load_checkpoint(rnet, agent, load)\n",
    "\n",
    "rnet.eval().to(device)\n",
    "agent.eval().to(device)\n",
    "\n",
    "start_testing = timer()\n",
    "\n",
    "inference() \n",
    "\n",
    "end_testing = timer()\n",
    "\n",
    "testing_time = end_testing - start_testing\n",
    "\n",
    "print(\"Testing in ms: %.2f\"%(1000*testing_time/len(testloader)))\n"
   ]
  },
  {
   "cell_type": "markdown",
   "id": "62f8fc19-fcdf-4f12-984e-af44e4466954",
   "metadata": {},
   "source": [
    "BlockDrop:\n",
    "Accuracy of the model: 93.56% Blocks used in avg: tensor(16.9326, device='cuda:0')\n",
    "Min blocks:  tensor(5., device='cuda:0')\n",
    "Testing in ms: 8.15\n",
    "\n",
    "Single ResNet:\n",
    "Accuracy of the model: 93.12% Blocks used in avg: tensor(54., device='cuda:0')\n",
    "Min blocks:  tensor(54., device='cuda:0')\n",
    "Testing in ms: 16.51"
   ]
  }
 ],
 "metadata": {
  "kernelspec": {
   "display_name": "Python 3",
   "language": "python",
   "name": "python3"
  },
  "language_info": {
   "codemirror_mode": {
    "name": "ipython",
    "version": 3
   },
   "file_extension": ".py",
   "mimetype": "text/x-python",
   "name": "python",
   "nbconvert_exporter": "python",
   "pygments_lexer": "ipython3",
   "version": "3.8.5"
  }
 },
 "nbformat": 4,
 "nbformat_minor": 5
}
